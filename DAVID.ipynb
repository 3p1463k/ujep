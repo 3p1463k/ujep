{
 "cells": [
  {
   "cell_type": "code",
   "execution_count": 98,
   "metadata": {},
   "outputs": [
    {
     "name": "stdout",
     "output_type": "stream",
     "text": [
      "Input date: 06-14\n",
      "Secteno:  7284.92541071\n",
      "Pocet radku:  45\n",
      "NaN:  8\n",
      "Pocet video:  37\n",
      "Mean AR:  196.88987596513513\n",
      "Shape:  (45, 7)\n"
     ]
    },
    {
     "data": {
      "text/html": [
       "<div>\n",
       "<style scoped>\n",
       "    .dataframe tbody tr th:only-of-type {\n",
       "        vertical-align: middle;\n",
       "    }\n",
       "\n",
       "    .dataframe tbody tr th {\n",
       "        vertical-align: top;\n",
       "    }\n",
       "\n",
       "    .dataframe thead th {\n",
       "        text-align: right;\n",
       "    }\n",
       "</style>\n",
       "<table border=\"1\" class=\"dataframe\">\n",
       "  <thead>\n",
       "    <tr style=\"text-align: right;\">\n",
       "      <th></th>\n",
       "      <th>File name</th>\n",
       "      <th>Start date</th>\n",
       "      <th>Annotation Ratio NET/1500fr [min]</th>\n",
       "      <th>[min] per 1 dyn.obj.</th>\n",
       "      <th>Annotation Ratio RB/1500fr. [min]</th>\n",
       "      <th>Validation Ratio</th>\n",
       "      <th>Stav videa (info pro logistika a validátory)</th>\n",
       "    </tr>\n",
       "  </thead>\n",
       "  <tbody>\n",
       "    <tr>\n",
       "      <th>1</th>\n",
       "      <td>20190607_101335_ecu_2019-06-07_101426_750_part...</td>\n",
       "      <td>2019-06-14 00:00:00</td>\n",
       "      <td>169.773635</td>\n",
       "      <td>11.000000</td>\n",
       "      <td>59.920107</td>\n",
       "      <td>34.953395</td>\n",
       "      <td>Zvalidované a validátorem uložené v archivu</td>\n",
       "    </tr>\n",
       "    <tr>\n",
       "      <th>2</th>\n",
       "      <td>20190607_101335_ecu_2019-06-07_101426_750_part...</td>\n",
       "      <td>2019-06-14 00:00:00</td>\n",
       "      <td>103.930713</td>\n",
       "      <td>7.285714</td>\n",
       "      <td>52.964690</td>\n",
       "      <td>75.949367</td>\n",
       "      <td>Zvalidované a validátorem uložené v archivu</td>\n",
       "    </tr>\n",
       "    <tr>\n",
       "      <th>4</th>\n",
       "      <td>NaN</td>\n",
       "      <td>2019-06-14 00:00:00</td>\n",
       "      <td>184.876749</td>\n",
       "      <td>18.500000</td>\n",
       "      <td>0.000000</td>\n",
       "      <td>66.955363</td>\n",
       "      <td>Zvalidované a validátorem uložené v archivu</td>\n",
       "    </tr>\n",
       "    <tr>\n",
       "      <th>8</th>\n",
       "      <td>20190607_101335_ecu_2019-06-07_101426_750_part...</td>\n",
       "      <td>2019-06-14 00:00:00</td>\n",
       "      <td>204.861111</td>\n",
       "      <td>5.000000</td>\n",
       "      <td>170.138889</td>\n",
       "      <td>34.722222</td>\n",
       "      <td>Zvalidované a validátorem uložené v archivu</td>\n",
       "    </tr>\n",
       "    <tr>\n",
       "      <th>9</th>\n",
       "      <td>20190607_101335_ecu_2019-06-07_101426_750_part...</td>\n",
       "      <td>2019-06-14 00:00:00</td>\n",
       "      <td>125.928678</td>\n",
       "      <td>14.250000</td>\n",
       "      <td>62.407132</td>\n",
       "      <td>16.716196</td>\n",
       "      <td>Zvalidované a validátorem uložené v archivu</td>\n",
       "    </tr>\n",
       "  </tbody>\n",
       "</table>\n",
       "</div>"
      ],
      "text/plain": [
       "                                           File name          Start date   \\\n",
       "1  20190607_101335_ecu_2019-06-07_101426_750_part...  2019-06-14 00:00:00   \n",
       "2  20190607_101335_ecu_2019-06-07_101426_750_part...  2019-06-14 00:00:00   \n",
       "4                                                NaN  2019-06-14 00:00:00   \n",
       "8  20190607_101335_ecu_2019-06-07_101426_750_part...  2019-06-14 00:00:00   \n",
       "9  20190607_101335_ecu_2019-06-07_101426_750_part...  2019-06-14 00:00:00   \n",
       "\n",
       "   Annotation Ratio NET/1500fr [min]  [min] per 1 dyn.obj.  \\\n",
       "1                         169.773635             11.000000   \n",
       "2                         103.930713              7.285714   \n",
       "4                         184.876749             18.500000   \n",
       "8                         204.861111              5.000000   \n",
       "9                         125.928678             14.250000   \n",
       "\n",
       "   Annotation Ratio RB/1500fr. [min]  Validation Ratio   \\\n",
       "1                          59.920107          34.953395   \n",
       "2                          52.964690          75.949367   \n",
       "4                           0.000000          66.955363   \n",
       "8                         170.138889          34.722222   \n",
       "9                          62.407132          16.716196   \n",
       "\n",
       "  Stav videa (info pro logistika a validátory)  \n",
       "1  Zvalidované a validátorem uložené v archivu  \n",
       "2  Zvalidované a validátorem uložené v archivu  \n",
       "4  Zvalidované a validátorem uložené v archivu  \n",
       "8  Zvalidované a validátorem uložené v archivu  \n",
       "9  Zvalidované a validátorem uložené v archivu  "
      ]
     },
     "execution_count": 98,
     "metadata": {},
     "output_type": "execute_result"
    }
   ],
   "source": [
    "from __future__ import absolute_import, division, print_function, unicode_literals\n",
    "import pathlib\n",
    "import pandas as pd\n",
    "import numpy as np\n",
    "\"\"\"Get input\"\"\"\n",
    "input_date = input(\"Input date: \")\n",
    "date = str(input_date)\n",
    "\"\"\"Load data \"\"\"\n",
    "df = pd.read_excel('/home/evzen/Downloads/HSC.xlsx')\n",
    "\n",
    "\"\"\"Filter columns and drop row\"\"\"\n",
    "df1 = df.iloc[:,[0,4,34,35,36,39,40]].drop(0, axis=0)\n",
    "\n",
    "\"\"\"Filter by date\"\"\"\n",
    "df1[\"Start date \"] = df1[\"Start date \"].astype(str)\n",
    "df2 = df1[df1[\"Start date \"].str.contains(date)]\n",
    "secteno = df2[\"Annotation Ratio NET/1500fr [min]\"].sum()\n",
    "nan_files_rows = sum(df2[\"File name\"].isna())\n",
    "pocet_radku =  df2[\"Annotation Ratio NET/1500fr [min]\"].shape[0]\n",
    "pocet_video = pocet_radku - nan_files_rows\n",
    "mean_ar = secteno / (pocet_radku - nan_files_rows)\n",
    "print(\"Secteno: \", secteno)\n",
    "print(\"Pocet radku: \", pocet_radku)\n",
    "print(\"NaN: \", nan_files_rows)\n",
    "print(\"Pocet video: \", pocet_video)\n",
    "print(\"Mean AR: \", mean_ar)\n",
    "print(\"Shape: \", df2.shape)\n",
    "df2.head()"
   ]
  },
  {
   "cell_type": "code",
   "execution_count": 96,
   "metadata": {},
   "outputs": [
    {
     "name": "stdout",
     "output_type": "stream",
     "text": [
      "196.88987596513513\n"
     ]
    }
   ],
   "source": [
    "df2.tail()"
   ]
  },
  {
   "cell_type": "code",
   "execution_count": 92,
   "metadata": {},
   "outputs": [
    {
     "data": {
      "text/plain": [
       "(45, 7)"
      ]
     },
     "execution_count": 92,
     "metadata": {},
     "output_type": "execute_result"
    }
   ],
   "source": [
    "df3 = df2[df2[\"Stav videa (info pro logistika a validátory)\"] == \"Zvalidované a validátorem uložené v archivu\"]\n",
    "df3.shape"
   ]
  },
  {
   "cell_type": "code",
   "execution_count": 94,
   "metadata": {},
   "outputs": [
    {
     "name": "stdout",
     "output_type": "stream",
     "text": [
      "NaN:  8\n",
      "Pocet radku:  45\n",
      "Secteno:  7284.92541071\n"
     ]
    },
    {
     "data": {
      "text/plain": [
       "196.88987596513513"
      ]
     },
     "execution_count": 94,
     "metadata": {},
     "output_type": "execute_result"
    }
   ],
   "source": [
    "secteno = df3[\"Annotation Ratio NET/1500fr [min]\"].sum()\n",
    "nan_files_rows = sum(df3[\"File name\"].isna())\n",
    "pocet_radku =  df3[\"Annotation Ratio NET/1500fr [min]\"].shape[0]\n",
    "mean_ar = secteno / (pocet_radku - nan_files_rows)\n",
    "print(\"NaN: \", nan_files_rows)\n",
    "print(\"Pocet radku: \", pocet_radku)\n",
    "print(\"Secteno: \", secteno)\n",
    "mean_ar\n"
   ]
  },
  {
   "cell_type": "code",
   "execution_count": null,
   "metadata": {},
   "outputs": [],
   "source": []
  }
 ],
 "metadata": {
  "kernelspec": {
   "display_name": "Python 3",
   "language": "python",
   "name": "python3"
  },
  "language_info": {
   "codemirror_mode": {
    "name": "ipython",
    "version": 3
   },
   "file_extension": ".py",
   "mimetype": "text/x-python",
   "name": "python",
   "nbconvert_exporter": "python",
   "pygments_lexer": "ipython3",
   "version": "3.7.1"
  }
 },
 "nbformat": 4,
 "nbformat_minor": 2
}
