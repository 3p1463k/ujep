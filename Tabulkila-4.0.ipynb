{
 "cells": [
  {
   "cell_type": "code",
   "execution_count": 71,
   "metadata": {},
   "outputs": [
    {
     "data": {
      "text/html": [
       "<div>\n",
       "<style scoped>\n",
       "    .dataframe tbody tr th:only-of-type {\n",
       "        vertical-align: middle;\n",
       "    }\n",
       "\n",
       "    .dataframe tbody tr th {\n",
       "        vertical-align: top;\n",
       "    }\n",
       "\n",
       "    .dataframe thead th {\n",
       "        text-align: right;\n",
       "    }\n",
       "</style>\n",
       "<table border=\"1\" class=\"dataframe\">\n",
       "  <thead>\n",
       "    <tr style=\"text-align: right;\">\n",
       "      <th></th>\n",
       "      <th>File name</th>\n",
       "      <th>Status 1</th>\n",
       "      <th>Annotator's name</th>\n",
       "      <th>Date start</th>\n",
       "      <th>Date finish</th>\n",
       "      <th>Start time</th>\n",
       "      <th>Break</th>\n",
       "      <th>Finish time</th>\n",
       "      <th>Status 2</th>\n",
       "    </tr>\n",
       "  </thead>\n",
       "  <tbody>\n",
       "    <tr>\n",
       "      <th>0</th>\n",
       "      <td>LB-VS1407_20170427_062910_Y650_BL18</td>\n",
       "      <td>Anotable</td>\n",
       "      <td>Evzen Ptacek</td>\n",
       "      <td>2019-07-15</td>\n",
       "      <td>2019-07-15</td>\n",
       "      <td>06:52</td>\n",
       "      <td>00:00</td>\n",
       "      <td>07:52</td>\n",
       "      <td>Send for validation</td>\n",
       "    </tr>\n",
       "  </tbody>\n",
       "</table>\n",
       "</div>"
      ],
      "text/plain": [
       "                             File name  Status 1 Annotator's name  Date start  \\\n",
       "0  LB-VS1407_20170427_062910_Y650_BL18  Anotable     Evzen Ptacek  2019-07-15   \n",
       "\n",
       "  Date finish Start time  Break Finish time             Status 2  \n",
       "0  2019-07-15      06:52  00:00       07:52  Send for validation  "
      ]
     },
     "execution_count": 71,
     "metadata": {},
     "output_type": "execute_result"
    }
   ],
   "source": [
    "import os\n",
    "import glob\n",
    "import pandas as pd\n",
    "import numpy as np\n",
    "from datetime import datetime \n",
    "\n",
    "\n",
    "\"\"\"Storages\"\"\"\n",
    "apc = np.array([])\n",
    "file_name = np.array([])\n",
    "\n",
    "\"\"\" Udaje anotatoru \"\"\"\n",
    "folder_hpp = glob.iglob(\"/home/evzen/doc/proj/APC22/for-annotation/*/*.dat\")\n",
    "jmeno = \"Evzen Ptacek\"#glob.iglob(C:/GE/)\n",
    "timestamp = str(datetime.now())\n",
    "datum_start = timestamp[0:10]\n",
    "datum_finish = timestamp[0:10]\n",
    "hour_start = \"06:52\"\n",
    "pauza = \"00:00\"\n",
    "hour_finish = \"07:52\"\n",
    "status1 = \"Anotable\"\n",
    "status2 = \"Send for validation\"\n",
    "\n",
    "\n",
    "\n",
    "def job1_APC():\n",
    "    APC = glob.iglob(\"/home/evzen/doc/proj/APC*\")\n",
    "    for x in APC:\n",
    "            if \"APC\" in x:\n",
    "                APC = str(x[-5::])\n",
    "                global apc\n",
    "                apc = np.array([APC])\n",
    "                #print(APC)\n",
    "                #print(datum)\n",
    "    \n",
    "        \n",
    "def job2_file():\n",
    "    for x in folder_hpp:\n",
    "        if \"dat\" in x:\n",
    "            soubor = str(x[135:-61])\n",
    "            global file_name\n",
    "            file_name = np.array([soubor])\n",
    "            print(soubor)\n",
    "    \n",
    "                \n",
    "\"\"\" Create dataframe \"\"\"\n",
    "df = pd.DataFrame(data = {\"File name\": soubor, \"Status 1\" :status1, \"Annotator's name\": jmeno, \n",
    "                          \"Date start\": datum_start, \"Date finish\":datum_finish, \"Start time\" :hour_start,\n",
    "                           \"Break\": pauza, \"Finish time\": hour_finish, \"Status 2\": status2},\n",
    "                           index=[0])\n",
    "df\n",
    "#report = df.to_excel(\"/home/evzen/doc/misc/report.xlsx\")\n",
    "\n",
    "\n",
    "\n",
    "# ##schedule.every().day.at(\"15:40\").do(job2)\n",
    "# schedule.every(5).minutes.do(job4)\n",
    "# # schedule.every(10).seconds.do(job3)\n",
    "# # schedule.every(5).seconds.do(job2)\n",
    "# # schedule.every(12).seconds.do(job1)\n",
    "\n",
    "#  while 1:\n",
    "#         schedule.run_pending()\n",
    "#         sleep(1)\n",
    "\n",
    "\n",
    "# \"\"\" Udaje validatoru\"\"\"\n",
    "# validator_folder = \"U:/\"\n",
    "# 1st_validation_time = \"00:30\"\n",
    "# 2nd_validation_time = \n",
    "# 3rd_validation_time =\n",
    "# status_v = \n",
    "# pauza_v= "
   ]
  },
  {
   "cell_type": "code",
   "execution_count": 75,
   "metadata": {},
   "outputs": [],
   "source": [
    "job2_file()\n",
    "job1_APC()"
   ]
  },
  {
   "cell_type": "code",
   "execution_count": 76,
   "metadata": {},
   "outputs": [
    {
     "data": {
      "text/plain": [
       "array(['APC22'], dtype='<U5')"
      ]
     },
     "execution_count": 76,
     "metadata": {},
     "output_type": "execute_result"
    }
   ],
   "source": [
    "apc"
   ]
  },
  {
   "cell_type": "code",
   "execution_count": 77,
   "metadata": {},
   "outputs": [
    {
     "data": {
      "text/plain": [
       "array(['LB-VS1407_20170427_062910_Y650_BL18'], dtype='<U35')"
      ]
     },
     "execution_count": 77,
     "metadata": {},
     "output_type": "execute_result"
    }
   ],
   "source": [
    "file_name"
   ]
  },
  {
   "cell_type": "code",
   "execution_count": null,
   "metadata": {},
   "outputs": [],
   "source": []
  }
 ],
 "metadata": {
  "kernelspec": {
   "display_name": "Python 3",
   "language": "python",
   "name": "python3"
  },
  "language_info": {
   "codemirror_mode": {
    "name": "ipython",
    "version": 3
   },
   "file_extension": ".py",
   "mimetype": "text/x-python",
   "name": "python",
   "nbconvert_exporter": "python",
   "pygments_lexer": "ipython3",
   "version": "3.7.1"
  }
 },
 "nbformat": 4,
 "nbformat_minor": 2
}
