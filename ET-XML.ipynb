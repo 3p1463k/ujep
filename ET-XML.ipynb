{
 "cells": [
  {
   "cell_type": "code",
   "execution_count": null,
   "metadata": {},
   "outputs": [],
   "source": [
    "DYN: ID 5 a 7 pozdní start; ID 7 špatná velikost; \n",
    "    fr. 1 missing (pokračuje i po fr. 200)\n",
    "    \n",
    "RB: protáhnout na začátku i na konci, LRB: od fr. 1471 více vpravo, fr. 1515 srovnat - moc nepravidelné,fr. 1828 - více vlevo\n",
    "PRB: přesněji zarovnat, až to budeš dělat, tak se zeptej"
   ]
  },
  {
   "cell_type": "code",
   "execution_count": 2,
   "metadata": {},
   "outputs": [],
   "source": [
    "import xml.etree.ElementTree as ET\n",
    "tree = ET.parse(r\"C:\\Annotation\\APC22\\FOR_ANNOTATION\\WORKING_FOLDER_HPP\\20190713_004946_ecu_2019-07-13_005041_183_part002_001-11207\\20190713_004946_ecu_2019-07-13_005041_183_part002_001.xml\")\n",
    "root = tree.getroot()"
   ]
  },
  {
   "cell_type": "code",
   "execution_count": 3,
   "metadata": {},
   "outputs": [
    {
     "name": "stdout",
     "output_type": "stream",
     "text": [
      "toolchain_version {}\n",
      "scene_attributes {}\n",
      "frame_specific {}\n",
      "border_polygons {}\n",
      "static_objects {}\n",
      "bridges {}\n",
      "vehicles {}\n",
      "freespace {}\n",
      "ego_vehicle {}\n",
      "rb {}\n",
      "ntp_times {}\n",
      "valeo_history {}\n",
      "odometry {}\n",
      "history {}\n"
     ]
    }
   ],
   "source": [
    "for child in root:\n",
    "    print( child.tag, child.attrib)"
   ]
  },
  {
   "cell_type": "code",
   "execution_count": 7,
   "metadata": {},
   "outputs": [
    {
     "name": "stdout",
     "output_type": "stream",
     "text": [
      "{}\n",
      "{}\n",
      "{}\n",
      "{}\n",
      "{}\n",
      "{}\n",
      "{}\n",
      "{}\n",
      "{}\n",
      "{}\n",
      "{}\n"
     ]
    }
   ],
   "source": [
    "for neighbor in root.iter('id'):\n",
    "    print(neighbor.attrib)"
   ]
  },
  {
   "cell_type": "code",
   "execution_count": null,
   "metadata": {},
   "outputs": [],
   "source": []
  }
 ],
 "metadata": {
  "kernelspec": {
   "display_name": "Python 3",
   "language": "python",
   "name": "python3"
  },
  "language_info": {
   "codemirror_mode": {
    "name": "ipython",
    "version": 3
   },
   "file_extension": ".py",
   "mimetype": "text/x-python",
   "name": "python",
   "nbconvert_exporter": "python",
   "pygments_lexer": "ipython3",
   "version": "3.7.1"
  }
 },
 "nbformat": 4,
 "nbformat_minor": 2
}
