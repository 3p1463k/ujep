{
 "cells": [
  {
   "cell_type": "code",
   "execution_count": 32,
   "metadata": {},
   "outputs": [
    {
     "name": "stdout",
     "output_type": "stream",
     "text": [
      "Input date: 07-15\n",
      "Secteno:  6948.566071650001\n",
      "Pocet radku:  74\n",
      "NaN:  25\n",
      "Pocet video:  49\n",
      "Mean AR:  141.80747085000002\n",
      "Shape:  (74, 9)\n"
     ]
    },
    {
     "data": {
      "text/html": [
       "<div>\n",
       "<style scoped>\n",
       "    .dataframe tbody tr th:only-of-type {\n",
       "        vertical-align: middle;\n",
       "    }\n",
       "\n",
       "    .dataframe tbody tr th {\n",
       "        vertical-align: top;\n",
       "    }\n",
       "\n",
       "    .dataframe thead th {\n",
       "        text-align: right;\n",
       "    }\n",
       "</style>\n",
       "<table border=\"1\" class=\"dataframe\">\n",
       "  <thead>\n",
       "    <tr style=\"text-align: right;\">\n",
       "      <th></th>\n",
       "      <th>File name</th>\n",
       "      <th>Date of first validation</th>\n",
       "      <th>Date of second validation</th>\n",
       "      <th>Date of third validation</th>\n",
       "      <th>Annotation Ratio NET/1500fr [min]</th>\n",
       "      <th>[min] per 1 dyn.obj.</th>\n",
       "      <th>Annotation Ratio RB/1500fr. [min]</th>\n",
       "      <th>Validation Ratio</th>\n",
       "      <th>Stav videa (info pro logistika a validátory)</th>\n",
       "    </tr>\n",
       "  </thead>\n",
       "  <tbody>\n",
       "    <tr>\n",
       "      <th>1981</th>\n",
       "      <td>20190705_022134_ecu_2019-07-05_022251_095_part...</td>\n",
       "      <td>2019-07-15 00:00:00</td>\n",
       "      <td>nan</td>\n",
       "      <td>nan</td>\n",
       "      <td>71.949948</td>\n",
       "      <td>6.16667</td>\n",
       "      <td>43.013556</td>\n",
       "      <td>19.551616</td>\n",
       "      <td>Zvalidované a validátorem uložené v archivu</td>\n",
       "    </tr>\n",
       "    <tr>\n",
       "      <th>1987</th>\n",
       "      <td>NaN</td>\n",
       "      <td>2019-07-15 00:00:00</td>\n",
       "      <td>nan</td>\n",
       "      <td>nan</td>\n",
       "      <td>66.518847</td>\n",
       "      <td>0</td>\n",
       "      <td>66.518847</td>\n",
       "      <td>33.259423</td>\n",
       "      <td>Zvalidované a validátorem uložené v archivu</td>\n",
       "    </tr>\n",
       "    <tr>\n",
       "      <th>1988</th>\n",
       "      <td>20190702_191651_ecu_2019-07-02_192720_292_part...</td>\n",
       "      <td>2019-07-15 00:00:00</td>\n",
       "      <td>nan</td>\n",
       "      <td>nan</td>\n",
       "      <td>32.934132</td>\n",
       "      <td>8</td>\n",
       "      <td>24.950100</td>\n",
       "      <td>29.940120</td>\n",
       "      <td>Zvalidované a validátorem uložené v archivu</td>\n",
       "    </tr>\n",
       "    <tr>\n",
       "      <th>1989</th>\n",
       "      <td>20190702_191651_ecu_2019-07-02_192720_292_part...</td>\n",
       "      <td>2019-07-15 00:00:00</td>\n",
       "      <td>nan</td>\n",
       "      <td>nan</td>\n",
       "      <td>122.282609</td>\n",
       "      <td>15</td>\n",
       "      <td>61.141304</td>\n",
       "      <td>30.570652</td>\n",
       "      <td>Zvalidované a validátorem uložené v archivu</td>\n",
       "    </tr>\n",
       "    <tr>\n",
       "      <th>1990</th>\n",
       "      <td>20190702_191651_ecu_2019-07-02_192720_292_part...</td>\n",
       "      <td>2019-07-15 00:00:00</td>\n",
       "      <td>nan</td>\n",
       "      <td>nan</td>\n",
       "      <td>94.873502</td>\n",
       "      <td>6.25</td>\n",
       "      <td>59.920107</td>\n",
       "      <td>19.973369</td>\n",
       "      <td>Zvalidované a validátorem uložené v archivu</td>\n",
       "    </tr>\n",
       "  </tbody>\n",
       "</table>\n",
       "</div>"
      ],
      "text/plain": [
       "                                              File name  \\\n",
       "1981  20190705_022134_ecu_2019-07-05_022251_095_part...   \n",
       "1987                                                NaN   \n",
       "1988  20190702_191651_ecu_2019-07-02_192720_292_part...   \n",
       "1989  20190702_191651_ecu_2019-07-02_192720_292_part...   \n",
       "1990  20190702_191651_ecu_2019-07-02_192720_292_part...   \n",
       "\n",
       "     Date of first validation Date of second validation  \\\n",
       "1981      2019-07-15 00:00:00                       nan   \n",
       "1987      2019-07-15 00:00:00                       nan   \n",
       "1988      2019-07-15 00:00:00                       nan   \n",
       "1989      2019-07-15 00:00:00                       nan   \n",
       "1990      2019-07-15 00:00:00                       nan   \n",
       "\n",
       "     Date of third validation  Annotation Ratio NET/1500fr [min]  \\\n",
       "1981                      nan                          71.949948   \n",
       "1987                      nan                          66.518847   \n",
       "1988                      nan                          32.934132   \n",
       "1989                      nan                         122.282609   \n",
       "1990                      nan                          94.873502   \n",
       "\n",
       "     [min] per 1 dyn.obj.  Annotation Ratio RB/1500fr. [min]  \\\n",
       "1981              6.16667                          43.013556   \n",
       "1987                    0                          66.518847   \n",
       "1988                    8                          24.950100   \n",
       "1989                   15                          61.141304   \n",
       "1990                 6.25                          59.920107   \n",
       "\n",
       "      Validation Ratio  Stav videa (info pro logistika a validátory)  \n",
       "1981          19.551616  Zvalidované a validátorem uložené v archivu  \n",
       "1987          33.259423  Zvalidované a validátorem uložené v archivu  \n",
       "1988          29.940120  Zvalidované a validátorem uložené v archivu  \n",
       "1989          30.570652  Zvalidované a validátorem uložené v archivu  \n",
       "1990          19.973369  Zvalidované a validátorem uložené v archivu  "
      ]
     },
     "execution_count": 32,
     "metadata": {},
     "output_type": "execute_result"
    }
   ],
   "source": [
    "from __future__ import absolute_import, division, print_function, unicode_literals\n",
    "import pathlib\n",
    "import pandas as pd\n",
    "import numpy as np\n",
    "\"\"\"Get input\"\"\"\n",
    "input_date = input(\"Input date: \")\n",
    "date = str(input_date)\n",
    "\"\"\"Load data \"\"\"\n",
    "df = pd.read_excel(r'C:\\Users\\anotator\\Desktop\\VALIDACE_KPI\\data\\evidence\\honda\\HSC.xlsx')\n",
    "\n",
    "\"\"\"Filter columns and drop row\"\"\"\n",
    "df1 = df.iloc[:,[0,20,25,30,34,35,36,39,40]].drop(0, axis=0)\n",
    "\n",
    "\"\"\"Filter by date of validation\"\"\"\n",
    "\n",
    "df1[\"Date of first validation\"] = df1[\"Date of first validation\"].astype(str)\n",
    "df1[\"Date of second validation\"] = df1[\"Date of second validation\"].astype(str)\n",
    "df1[\"Date of third validation\"] = df1[\"Date of third validation\"].astype(str)\n",
    "\n",
    "df2 = df1[df1[\"Date of first validation\"].str.contains(date)]\n",
    "df3 = df1[df1[\"Date of second validation\"].str.contains(date)]\n",
    "df4 = df1[df1[\"Date of third validation\"].str.contains(date)]\n",
    "df5 = pd.concat([df2,df3,df4])\n",
    "\n",
    "df5 = df5[df5[\"Stav videa (info pro logistika a validátory)\"] == \"Zvalidované a validátorem uložené v archivu\"]\n",
    "\n",
    "\"\"\"Calculate\"\"\"\n",
    "secteno = df5[\"Annotation Ratio NET/1500fr [min]\"].sum()\n",
    "nan_files_rows = sum(df5[\"File name\"].isna())\n",
    "pocet_radku =  df5[\"Annotation Ratio NET/1500fr [min]\"].shape[0]\n",
    "pocet_video = pocet_radku - nan_files_rows\n",
    "mean_ar = secteno / (pocet_radku - nan_files_rows)\n",
    "print(\"Secteno: \", secteno)\n",
    "print(\"Pocet radku: \", pocet_radku)\n",
    "print(\"NaN: \", nan_files_rows)\n",
    "print(\"Pocet video: \", pocet_video)\n",
    "print(\"Mean AR: \", mean_ar)\n",
    "print(\"Shape: \", df5.shape)\n",
    "df5.head()\n",
    "#df2.to_excel(r'C:\\Users\\anotator\\Desktop\\VALIDACE_KPI\\data\\evidence\\honda\\test-report.xlsx)"
   ]
  },
  {
   "cell_type": "code",
   "execution_count": 29,
   "metadata": {},
   "outputs": [
    {
     "data": {
      "text/plain": [
       "12"
      ]
     },
     "execution_count": 29,
     "metadata": {},
     "output_type": "execute_result"
    }
   ],
   "source": [
    "len(df3)"
   ]
  },
  {
   "cell_type": "code",
   "execution_count": 33,
   "metadata": {},
   "outputs": [],
   "source": [
    "df5.to_excel(r'C:\\Users\\anotator\\Desktop\\VALIDACE_KPI\\data\\evidence\\honda\\test-report.xlsx')"
   ]
  },
  {
   "cell_type": "code",
   "execution_count": 12,
   "metadata": {},
   "outputs": [
    {
     "data": {
      "text/plain": [
       "Index(['File name', 'Date of first validation', 'Date of second validation',\n",
       "       'Date of third validation', 'Annotation Ratio NET/1500fr [min]',\n",
       "       '[min] per 1 dyn.obj.', 'Annotation Ratio RB/1500fr. [min]',\n",
       "       'Validation Ratio ', 'Stav videa (info pro logistika a validátory)'],\n",
       "      dtype='object')"
      ]
     },
     "execution_count": 12,
     "metadata": {},
     "output_type": "execute_result"
    }
   ],
   "source": [
    "df1.columns"
   ]
  },
  {
   "cell_type": "code",
   "execution_count": null,
   "metadata": {},
   "outputs": [],
   "source": []
  }
 ],
 "metadata": {
  "kernelspec": {
   "display_name": "Python 3",
   "language": "python",
   "name": "python3"
  },
  "language_info": {
   "codemirror_mode": {
    "name": "ipython",
    "version": 3
   },
   "file_extension": ".py",
   "mimetype": "text/x-python",
   "name": "python",
   "nbconvert_exporter": "python",
   "pygments_lexer": "ipython3",
   "version": "3.7.1"
  }
 },
 "nbformat": 4,
 "nbformat_minor": 2
}
