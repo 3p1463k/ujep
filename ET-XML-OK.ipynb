{
 "cells": [
  {
   "cell_type": "code",
   "execution_count": 59,
   "metadata": {},
   "outputs": [
    {
     "name": "stdout",
     "output_type": "stream",
     "text": [
      "rect_vehicle {}\n",
      "rect_vehicle {}\n",
      "rect_vehicle {}\n",
      "rect_vehicle {}\n",
      "4\n"
     ]
    }
   ],
   "source": [
    "import xml.etree.ElementTree as ET\n",
    "\n",
    "tree = ET.parse(\"/run/media/evzen/KINGSTON/xml/20190713_011200_ecu_2019-07-13_011219_836_part016_001.xml\")\n",
    "root = tree.getroot()\n",
    "len(tree.findall(\"*/rect_vehicle\"))\n",
    "for child in rect_vehicle:\n",
    "    print( child.tag, child.attrib)\n",
    "print(len(tree.findall(\"*/rect_vehicle\")))"
   ]
  },
  {
   "cell_type": "code",
   "execution_count": 49,
   "metadata": {},
   "outputs": [
    {
     "name": "stdout",
     "output_type": "stream",
     "text": [
      "20190713_011200_ecu_2019-07-13_011219_836_part016_001.xml\tPocet : 4\n"
     ]
    }
   ],
   "source": [
    "import xml.etree.ElementTree as ET\n",
    "import glob\n",
    "\n",
    "list_of_directories = glob.glob('/run/media/evzen/KINGSTON/xml/*.xml')\n",
    "\n",
    "for x in list_of_directories:\n",
    "    tree = ET.parse(x)\n",
    "    root = tree.getroot()\n",
    "    \n",
    "    if tree.findall(\"*/rect_vehicle\"):\n",
    "        nazev = x[30:]\n",
    "        pocet = len(tree.findall(\"*/rect_vehicle\"))\n",
    "        print(str(nazev) + \"\\t\" + \"Pocet : \" + str(pocet))"
   ]
  }
 ],
 "metadata": {
  "kernelspec": {
   "display_name": "Python 3",
   "language": "python",
   "name": "python3"
  },
  "language_info": {
   "codemirror_mode": {
    "name": "ipython",
    "version": 3
   },
   "file_extension": ".py",
   "mimetype": "text/x-python",
   "name": "python",
   "nbconvert_exporter": "python",
   "pygments_lexer": "ipython3",
   "version": "3.7.1"
  }
 },
 "nbformat": 4,
 "nbformat_minor": 2
}
